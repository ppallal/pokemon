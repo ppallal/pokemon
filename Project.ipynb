{
 "cells": [
  {
   "cell_type": "code",
   "execution_count": 1,
   "metadata": {},
   "outputs": [],
   "source": [
    "from __future__ import print_function\n",
    "import numpy as np\n",
    "import torch\n",
    "import torch.autograd as ag\n",
    "\n",
    "from matplotlib import pyplot\n",
    "from tqdm import trange\n",
    "import pandas as pd\n",
    "\n",
    "import cv2\n",
    "import glob"
   ]
  },
  {
   "cell_type": "code",
   "execution_count": 2,
   "metadata": {},
   "outputs": [],
   "source": [
    "categories = glob.glob('pokemon/PokemonTypesDeepLearning/Images/data/*')\n",
    "xtrain = []\n",
    "ltrain = []\n",
    "for cat in categories:\n",
    "    image_files = glob.glob(cat + \"/*\")\n",
    "    for image in image_files:\n",
    "        img = cv2.imread(image)\n",
    "        if img.shape == (32, 32, 3):\n",
    "            xtrain.append(img)\n",
    "            ltrain.append(cat.split(\"/\")[-1])\n",
    "        "
   ]
  },
  {
   "cell_type": "code",
   "execution_count": 3,
   "metadata": {},
   "outputs": [],
   "source": [
    "# len(xtrain), len(ltrain), [xtrain[i].shape for i in range(len(ltrain))]"
   ]
  },
  {
   "cell_type": "code",
   "execution_count": 4,
   "metadata": {},
   "outputs": [],
   "source": [
    "xtrain = np.array(xtrain)\n",
    "ltrain = np.array(ltrain)"
   ]
  },
  {
   "cell_type": "code",
   "execution_count": 5,
   "metadata": {},
   "outputs": [],
   "source": [
    "xtrain = xtrain.astype(np.float64) / xtrain.max()\n",
    "# xtrain[0][0]"
   ]
  },
  {
   "cell_type": "code",
   "execution_count": 6,
   "metadata": {},
   "outputs": [
    {
     "name": "stdout",
     "output_type": "stream",
     "text": [
      "['Ghost', 'Steel', 'Poison', 'Electric', 'Normal', 'Fire', 'Psychic', 'Water', 'Ice', 'Dragon', 'Dark', 'Fighting', 'Rock', 'Fairy', 'Grass', 'Bug', 'Ground']\n"
     ]
    }
   ],
   "source": [
    "classes = list(set(ltrain))\n",
    "print(classes)\n",
    "tmp = dict(zip(classes, range(len(classes))))\n",
    "inds = map(lambda x:tmp[x], ltrain)\n",
    "one_hot = np.zeros((len(ltrain), len(classes)))\n",
    "one_hot[range(len(ltrain)), inds] = 1\n",
    "one_hot.sum(axis=0)\n",
    "ltrain = one_hot"
   ]
  },
  {
   "cell_type": "code",
   "execution_count": 7,
   "metadata": {},
   "outputs": [
    {
     "data": {
      "text/plain": [
       "(714, 3, 32, 32)"
      ]
     },
     "execution_count": 7,
     "metadata": {},
     "output_type": "execute_result"
    }
   ],
   "source": [
    "xtrain = np.moveaxis(xtrain, [1, 2, 3], [2, 3, 1])\n",
    "xtrain.shape"
   ]
  },
  {
   "cell_type": "code",
   "execution_count": 8,
   "metadata": {},
   "outputs": [],
   "source": [
    "val_idx = np.random.uniform(size=(len(xtrain),)) < 0.2\n",
    "xval = xtrain[val_idx]\n",
    "lval = ltrain[val_idx]\n",
    "neg = (1-val_idx).astype(bool)\n",
    "xtrain = xtrain[neg]\n",
    "ltrain = ltrain[neg]"
   ]
  },
  {
   "cell_type": "code",
   "execution_count": 9,
   "metadata": {},
   "outputs": [
    {
     "data": {
      "text/plain": [
       "((580, 17), (134, 17))"
      ]
     },
     "execution_count": 9,
     "metadata": {},
     "output_type": "execute_result"
    }
   ],
   "source": [
    "ltrain.shape, lval.shape"
   ]
  },
  {
   "cell_type": "code",
   "execution_count": 10,
   "metadata": {},
   "outputs": [],
   "source": [
    "xtrain = torch.from_numpy(xtrain).double()\n",
    "ltrain = torch.from_numpy(ltrain).long()\n",
    "xval = torch.from_numpy(xval).double()\n",
    "lval = torch.from_numpy(lval).long()\n",
    "\n",
    "if torch.cuda.is_available():\n",
    "    xtrain = xtrain.cuda()\n",
    "    ltrain = ltrain.cuda()\n",
    "    xval = xval.cuda()\n",
    "    lval = lval.cuda()\n",
    "\n",
    "\n",
    "xtrain_target = ag.Variable(xtrain, requires_grad=False)\n",
    "xtrain = ag.Variable(xtrain, requires_grad=True)\n",
    "ltrain = ag.Variable(ltrain, requires_grad=False)\n",
    "xval = ag.Variable(xval, requires_grad=False)\n",
    "lval = ag.Variable(lval, requires_grad=False)"
   ]
  },
  {
   "cell_type": "code",
   "execution_count": 12,
   "metadata": {},
   "outputs": [
    {
     "name": "stdout",
     "output_type": "stream",
     "text": [
      "LeNet(\n",
      "  (conv1): Conv2d(3, 32, kernel_size=(5, 5), stride=(1, 1), padding=(2, 2))\n",
      "  (conv2): Conv2d(32, 32, kernel_size=(5, 5), stride=(1, 1), padding=(2, 2))\n",
      "  (fc1): Linear(in_features=2048, out_features=1024, bias=True)\n",
      "  (fc2): Linear(in_features=1024, out_features=512, bias=True)\n",
      "  (fc3): Linear(in_features=512, out_features=256, bias=True)\n",
      "  (fc3r): Linear(in_features=256, out_features=512, bias=True)\n",
      "  (fc2r): Linear(in_features=512, out_features=1024, bias=True)\n",
      "  (fc1r): Linear(in_features=1024, out_features=2048, bias=True)\n",
      "  (conv2r): Conv2d(32, 32, kernel_size=(5, 5), stride=(1, 1), padding=(2, 2))\n",
      "  (conv1r): Conv2d(32, 3, kernel_size=(5, 5), stride=(1, 1), padding=(2, 2))\n",
      "  (classifier): Linear(in_features=256, out_features=17, bias=True)\n",
      ")\n"
     ]
    }
   ],
   "source": [
    "import torch.nn as nn\n",
    "import torch.nn.functional as F\n",
    "# This is our neural networks class that inherits from nn.Module \n",
    "class LeNet(nn.Module):\n",
    "# Here we define our network structure\n",
    "    def __init__(self):\n",
    "        super(LeNet , self).__init__ () \n",
    "        l = len(classes) * 3\n",
    "        l2 = 84\n",
    "        l3 = 120\n",
    "        \n",
    "        l = 256\n",
    "        l2 = 512\n",
    "        l3 = 1024\n",
    "        \n",
    "        self.conv1 = nn.Conv2d(3, 32, 5, padding=2).double()\n",
    "        self.conv2 = nn.Conv2d(32, 32, 5, padding=2).double()\n",
    "        self.fc1 = nn.Linear(2048, l3).double() \n",
    "        self.fc2 = nn.Linear(l3, l2).double() \n",
    "        self.fc3 = nn.Linear(l2, l).double()\n",
    "        \n",
    "        self.fc3r = nn.Linear(l, l2).double()\n",
    "        self.fc2r = nn.Linear(l2, l3).double() \n",
    "        self.fc1r = nn.Linear(l3, 2048).double() \n",
    "        self.conv2r = nn.Conv2d(32, 32, 5, padding=2).double()\n",
    "        self.conv1r = nn.Conv2d(32, 3, 5, padding=2).double()\n",
    "        \n",
    "        self.classifier = nn.Linear(l, len(classes)).double()\n",
    "        \n",
    "\n",
    "    # Here we define one forward pass through the network \n",
    "    def forward(self, x):\n",
    "        x = F.max_pool2d(F.relu(self.conv1(x)), (2, 2))\n",
    "        x = F.max_pool2d(F.relu(self.conv2(x)), (2, 2))\n",
    "#         print(x.size())\n",
    "        x = x.view(-1, self.num_flat_features(x))\n",
    "        x = F.relu(self.fc1(x))\n",
    "        x = F.relu(self.fc2(x)) \n",
    "        x = F.relu(self.fc3(x))\n",
    "        x = self.classifier(x)\n",
    "        return x\n",
    "    \n",
    "    def auto_encode_forward(self , x):\n",
    "        x, ind1 = F.max_pool2d(F.relu(self.conv1(x)), (2, 2), return_indices=True)\n",
    "        x, ind2 = F.max_pool2d(F.relu(self.conv2(x)), (2, 2), return_indices=True)\n",
    "#         print(x.size())\n",
    "        x = x.view(-1, self.num_flat_features(x))\n",
    "        x = F.relu(self.fc1(x))\n",
    "        x = F.relu(self.fc2(x)) \n",
    "        x = F.relu(self.fc3(x))\n",
    "        \n",
    "        x = F.relu(self.fc3r(x))\n",
    "        x = F.relu(self.fc2r(x))\n",
    "        x = F.relu(self.fc1r(x))\n",
    "        x = x.view(-1, 32, 8, 8)\n",
    "        x = x.view(-1, 32, 8, 8)\n",
    "        x = F.max_unpool2d(x, ind2, (2, 2), padding=(0,0), stride=(2, 2))\n",
    "        x = F.relu(self.conv2r(x))\n",
    "        x = F.max_unpool2d(x, ind1, (2, 2), padding=(0,0), stride=(2, 2))\n",
    "        x = F.relu(self.conv1r(x)).double()\n",
    "        return x\n",
    "\n",
    "    # Determine the number of features in a batch of tensors \n",
    "    def num_flat_features(self , x):\n",
    "        size = x.size()[1:]\n",
    "        return np.prod(size)\n",
    "\n",
    "net = LeNet()\n",
    "\n",
    "def init_weights(m):\n",
    "    if type(m) == nn.Linear:\n",
    "        torch.nn.init.xavier_uniform(m.weight)\n",
    "        m.bias.data.fill_(0.01)\n",
    "\n",
    "net.apply(init_weights)\n",
    "\n",
    "print(net)\n",
    "if torch.cuda.is_available():\n",
    "    net=net.cuda()\n",
    "    \n"
   ]
  },
  {
   "cell_type": "code",
   "execution_count": 13,
   "metadata": {},
   "outputs": [],
   "source": [
    "yinit = net(xval)\n",
    "if torch.cuda.is_available():\n",
    "    yinit = yinit.cpu()"
   ]
  },
  {
   "cell_type": "code",
   "execution_count": 14,
   "metadata": {},
   "outputs": [
    {
     "data": {
      "text/plain": [
       "torch.Size([134, 17])"
      ]
     },
     "execution_count": 14,
     "metadata": {},
     "output_type": "execute_result"
    }
   ],
   "source": [
    "yinit.data.numpy().shape\n",
    "lval.shape"
   ]
  },
  {
   "cell_type": "code",
   "execution_count": 15,
   "metadata": {},
   "outputs": [
    {
     "name": "stdout",
     "output_type": "stream",
     "text": [
      "6.7164179104477615\n"
     ]
    }
   ],
   "source": [
    "print (100 * np.mean(lval.cpu().data.numpy().T.argmax(axis=0) == yinit.data.numpy().T.argmax(axis =0)))"
   ]
  },
  {
   "cell_type": "markdown",
   "metadata": {},
   "source": [
    "Train Auto Encoder"
   ]
  },
  {
   "cell_type": "code",
   "execution_count": 18,
   "metadata": {},
   "outputs": [],
   "source": [
    "import math\n",
    "N = xtrain.size ()[0]\n",
    "B = 20\n",
    "NB = int(math.ceil(1.0*N/B))\n",
    "T = 200\n",
    "# T = 1\n",
    "gamma = .01\n",
    "rho = .9\n",
    "# Training set size # Minibacth size\n",
    "# Number of minibatches # Number of epochs # learning rate\n",
    "# momentum\n",
    "criterion = nn.MSELoss() \n",
    "optimizer = torch.optim.SGD(net.parameters(), lr=gamma , momentum=rho)"
   ]
  },
  {
   "cell_type": "code",
   "execution_count": 19,
   "metadata": {},
   "outputs": [
    {
     "name": "stdout",
     "output_type": "stream",
     "text": [
      "[200,    29] loss: 0.01993051  Finished Training \n"
     ]
    }
   ],
   "source": [
    "\n",
    "\n",
    "losses = []\n",
    "for epoch in range(T): \n",
    "    running_loss = 0.0 \n",
    "    idxminibatches = np.random.permutation(NB)\n",
    "    # shuffling \n",
    "    for k in range(NB): \n",
    "        i = idxminibatches[k] # index of minibatch\n",
    "        # Extract i-th minibatch from xtrain and ltrain \n",
    "        \n",
    "        idxsmp = np.arange(i, min(N, i+B)) # indices of samples for i-th minibatch \n",
    "        inputs = xtrain[idxsmp] \n",
    "        labels = xtrain_target[idxsmp]\n",
    "        # Initialize the gradients to zero \n",
    "        optimizer.zero_grad()\n",
    "\n",
    "        # Forward propagation \n",
    "        outputs = net.auto_encode_forward(inputs)\n",
    "        \n",
    "#         print(type(outputs.cpu().data), type(labels.cpu().data))\n",
    "\n",
    "        # Error evaluation \n",
    "#         loss = criterion(outputs , labels)\n",
    "        loss = criterion(outputs , labels)\n",
    "        \n",
    "        # Back propagation \n",
    "        loss.backward()\n",
    "\n",
    "        # Parameter update \n",
    "        optimizer.step()\n",
    "        \n",
    "        voutputs = net.auto_encode_forward(xval)\n",
    "        vloss = criterion(voutputs , xval)\n",
    "\n",
    "        # Print averaged loss per minibatch every 100 mini-batches\n",
    "        running_loss+= loss[0] \n",
    "#         print(k)\n",
    "        losses.append((running_loss.cpu().data.numpy()[0], vloss[0].cpu().data.numpy()[0]))\n",
    "        if k % 1 == 0: \n",
    "            print('\\r[%d, %5d] loss: %.8f ' % (epoch + 1, k + 1, running_loss), end=\"\")\n",
    "            running_loss = 0.0 \n",
    "\n",
    "print ( ' Finished Training ' )\n",
    "# pd.Series(losses).ewm(20).mean().plot()"
   ]
  },
  {
   "cell_type": "code",
   "execution_count": 20,
   "metadata": {},
   "outputs": [
    {
     "data": {
      "text/plain": [
       "<matplotlib.axes._subplots.AxesSubplot at 0x7fa7786a6d10>"
      ]
     },
     "execution_count": 20,
     "metadata": {},
     "output_type": "execute_result"
    },
    {
     "data": {
      "image/png": "[encoded data removed]",
      "text/plain": [
       "<Figure size 432x288 with 1 Axes>"
      ]
     },
     "metadata": {},
     "output_type": "display_data"
    }
   ],
   "source": [
    "pd.DataFrame(losses).ewm(20).mean().plot()"
   ]
  },
  {
   "cell_type": "code",
   "execution_count": 21,
   "metadata": {},
   "outputs": [],
   "source": [
    "voutputs = net.auto_encode_forward(xval)\n",
    "# xval[0].cpu().data.numpy()[0]\n",
    "# torch.save(net.state_dict(), 'auto.net')"
   ]
  },
  {
   "cell_type": "code",
   "execution_count": 23,
   "metadata": {},
   "outputs": [
    {
     "data": {
      "text/plain": [
       "<matplotlib.image.AxesImage at 0x7fa7740c4d50>"
      ]
     },
     "execution_count": 23,
     "metadata": {},
     "output_type": "execute_result"
    },
    {
     "data": {
      "image/png": "[encoded data removed]",
      "text/plain": [
       "<Figure size 432x288 with 1 Axes>"
      ]
     },
     "metadata": {},
     "output_type": "display_data"
    }
   ],
   "source": [
    "from matplotlib import pyplot as plt\n",
    "plt.imshow(xval[0].cpu().data.numpy().transpose([1, 2, 0]))\n",
    "# plt.imshow(voutputs[0].cpu().data.numpy().transpose([1, 2, 0]))"
   ]
  },
  {
   "cell_type": "markdown",
   "metadata": {},
   "source": [
    "Train Classifier"
   ]
  },
  {
   "cell_type": "code",
   "execution_count": 16,
   "metadata": {},
   "outputs": [],
   "source": [
    "import math\n",
    "\n",
    "N = xtrain.size ()[0]\n",
    "B = 20\n",
    "NB = int(math.ceil(1.0*N/B))\n",
    "T = 50\n",
    "# T = 1\n",
    "gamma = .001\n",
    "rho = .9\n",
    "# Training set size # Minibacth size\n",
    "# Number of minibatches # Number of epochs # learning rate\n",
    "# momentum\n",
    "criterion = nn.CrossEntropyLoss() \n",
    "optimizer = torch.optim.SGD(net.parameters(), lr=gamma , momentum=rho)"
   ]
  },
  {
   "cell_type": "code",
   "execution_count": 17,
   "metadata": {},
   "outputs": [
    {
     "name": "stdout",
     "output_type": "stream",
     "text": [
      "[50,    29] loss: 0.00002477  Finished Training \n"
     ]
    }
   ],
   "source": [
    "\n",
    "\n",
    "losses = []\n",
    "for epoch in range(T): \n",
    "    running_loss = 0.0 \n",
    "    idxminibatches = np.random.permutation(NB)\n",
    "    # shuffling \n",
    "    for k in range(NB): \n",
    "        i = idxminibatches[k] # index of minibatch\n",
    "        # Extract i-th minibatch from xtrain and ltrain \n",
    "        \n",
    "        idxsmp = np.arange(i, min(N, i+B)) # indices of samples for i-th minibatch \n",
    "        inputs = xtrain[idxsmp] \n",
    "        labels = ltrain[idxsmp]\n",
    "        # Initialize the gradients to zero \n",
    "        optimizer.zero_grad ()\n",
    "\n",
    "        # Forward propagation \n",
    "        outputs = net(inputs)\n",
    "        \n",
    "#         print(type(outputs.cpu().data), type(labels.cpu().data))\n",
    "\n",
    "        # Error evaluation \n",
    "#         loss = criterion(outputs , labels)\n",
    "        \n",
    "        loss = criterion(outputs , torch.max(labels, 1)[1])\n",
    "        \n",
    "        # Back propagation \n",
    "        loss.backward()\n",
    "\n",
    "        # Parameter update \n",
    "        optimizer.step()\n",
    "        \n",
    "        voutputs = net(xval)\n",
    "        vloss = criterion(voutputs , torch.max(lval, 1)[1])\n",
    "\n",
    "        # Print averaged loss per minibatch every 100 mini-batches\n",
    "        running_loss+= loss[0] \n",
    "#         print(k)\n",
    "        losses.append((running_loss.cpu().data.numpy()[0], vloss[0].cpu().data.numpy()[0]))\n",
    "        if k % 1 == 0: \n",
    "            print('\\r[%d, %5d] loss: %.8f ' % (epoch + 1, k + 1, running_loss), end=\"\")\n",
    "            running_loss = 0.0 \n",
    "\n",
    "print ( ' Finished Training ' )\n",
    "# pd.Series(losses).ewm(20).mean().plot()"
   ]
  },
  {
   "cell_type": "code",
   "execution_count": 18,
   "metadata": {},
   "outputs": [
    {
     "data": {
      "text/plain": [
       "<matplotlib.axes._subplots.AxesSubplot at 0x7f4ef82ee990>"
      ]
     },
     "execution_count": 18,
     "metadata": {},
     "output_type": "execute_result"
    },
    {
     "data": {
      "image/png": "[encoded data removed]",
      "text/plain": [
       "<Figure size 432x288 with 1 Axes>"
      ]
     },
     "metadata": {},
     "output_type": "display_data"
    }
   ],
   "source": [
    "pd.DataFrame(losses).ewm(20).mean().plot()"
   ]
  },
  {
   "cell_type": "code",
   "execution_count": 62,
   "metadata": {},
   "outputs": [
    {
     "ename": "AttributeError",
     "evalue": "'Variable' object has no attribute 'T'",
     "output_type": "error",
     "traceback": [
      "\u001b[0;31m\u001b[0m",
      "\u001b[0;31mAttributeError\u001b[0mTraceback (most recent call last)",
      "\u001b[0;32m<ipython-input-62-8a7e76f27b8a>\u001b[0m in \u001b[0;36m<module>\u001b[0;34m()\u001b[0m\n\u001b[1;32m      4\u001b[0m     \u001b[0mytrained\u001b[0m \u001b[0;34m=\u001b[0m \u001b[0mytrained\u001b[0m\u001b[0;34m.\u001b[0m\u001b[0mcpu\u001b[0m\u001b[0;34m(\u001b[0m\u001b[0;34m)\u001b[0m\u001b[0;34m\u001b[0m\u001b[0m\n\u001b[1;32m      5\u001b[0m \u001b[0;34m\u001b[0m\u001b[0m\n\u001b[0;32m----> 6\u001b[0;31m \u001b[0;32mprint\u001b[0m \u001b[0;34m(\u001b[0m\u001b[0;36m100\u001b[0m \u001b[0;34m*\u001b[0m \u001b[0mnp\u001b[0m\u001b[0;34m.\u001b[0m\u001b[0mmean\u001b[0m\u001b[0;34m(\u001b[0m\u001b[0mlval\u001b[0m\u001b[0;34m.\u001b[0m\u001b[0mT\u001b[0m\u001b[0;34m.\u001b[0m\u001b[0margmax\u001b[0m\u001b[0;34m(\u001b[0m\u001b[0maxis\u001b[0m\u001b[0;34m=\u001b[0m\u001b[0;36m0\u001b[0m\u001b[0;34m)\u001b[0m \u001b[0;34m==\u001b[0m \u001b[0mytrained\u001b[0m\u001b[0;34m.\u001b[0m\u001b[0mdata\u001b[0m\u001b[0;34m.\u001b[0m\u001b[0mnumpy\u001b[0m\u001b[0;34m(\u001b[0m\u001b[0;34m)\u001b[0m\u001b[0;34m.\u001b[0m\u001b[0mT\u001b[0m\u001b[0;34m.\u001b[0m\u001b[0margmax\u001b[0m\u001b[0;34m(\u001b[0m\u001b[0maxis\u001b[0m \u001b[0;34m=\u001b[0m\u001b[0;36m0\u001b[0m\u001b[0;34m)\u001b[0m\u001b[0;34m)\u001b[0m\u001b[0;34m)\u001b[0m\u001b[0;34m\u001b[0m\u001b[0m\n\u001b[0m",
      "\u001b[0;32m/opt/conda/lib/python2.7/site-packages/torch/autograd/variable.pyc\u001b[0m in \u001b[0;36m__getattr__\u001b[0;34m(self, name)\u001b[0m\n\u001b[1;32m     65\u001b[0m         \u001b[0;32mif\u001b[0m \u001b[0mname\u001b[0m \u001b[0;32min\u001b[0m \u001b[0mself\u001b[0m\u001b[0;34m.\u001b[0m\u001b[0m_fallthrough_methods\u001b[0m\u001b[0;34m:\u001b[0m\u001b[0;34m\u001b[0m\u001b[0m\n\u001b[1;32m     66\u001b[0m             \u001b[0;32mreturn\u001b[0m \u001b[0mgetattr\u001b[0m\u001b[0;34m(\u001b[0m\u001b[0mself\u001b[0m\u001b[0;34m.\u001b[0m\u001b[0mdata\u001b[0m\u001b[0;34m,\u001b[0m \u001b[0mname\u001b[0m\u001b[0;34m)\u001b[0m\u001b[0;34m\u001b[0m\u001b[0m\n\u001b[0;32m---> 67\u001b[0;31m         \u001b[0;32mreturn\u001b[0m \u001b[0mobject\u001b[0m\u001b[0;34m.\u001b[0m\u001b[0m__getattribute__\u001b[0m\u001b[0;34m(\u001b[0m\u001b[0mself\u001b[0m\u001b[0;34m,\u001b[0m \u001b[0mname\u001b[0m\u001b[0;34m)\u001b[0m\u001b[0;34m\u001b[0m\u001b[0m\n\u001b[0m\u001b[1;32m     68\u001b[0m \u001b[0;34m\u001b[0m\u001b[0m\n\u001b[1;32m     69\u001b[0m     \u001b[0;32mdef\u001b[0m \u001b[0m__getitem__\u001b[0m\u001b[0;34m(\u001b[0m\u001b[0mself\u001b[0m\u001b[0;34m,\u001b[0m \u001b[0mkey\u001b[0m\u001b[0;34m)\u001b[0m\u001b[0;34m:\u001b[0m\u001b[0;34m\u001b[0m\u001b[0m\n",
      "\u001b[0;31mAttributeError\u001b[0m: 'Variable' object has no attribute 'T'"
     ]
    }
   ],
   "source": [
    "# np.random.permutation(NB)\n",
    "ytrained = net(xval)\n",
    "if torch.cuda.is_available():\n",
    "    ytrained = ytrained.cpu()\n",
    "    \n",
    "print (100 * np.mean(lval.T.argmax(axis=0) == ytrained.data.numpy().T.argmax(axis =0)))"
   ]
  },
  {
   "cell_type": "code",
   "execution_count": 65,
   "metadata": {},
   "outputs": [
    {
     "name": "stdout",
     "output_type": "stream",
     "text": [
      "Initialized empty Git repository in /datasets/home/26/626/ee285fac/.git/\r\n"
     ]
    }
   ],
   "source": []
  }
 ],
 "metadata": {
  "kernelspec": {
   "display_name": "Python 2",
   "language": "python",
   "name": "python2"
  },
  "language_info": {
   "codemirror_mode": {
    "name": "ipython",
    "version": 2
   },
   "file_extension": ".py",
   "mimetype": "text/x-python",
   "name": "python",
   "nbconvert_exporter": "python",
   "pygments_lexer": "ipython2",
   "version": "2.7.14"
  }
 },
 "nbformat": 4,
 "nbformat_minor": 2
}
